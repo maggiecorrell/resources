{
 "cells": [
  {
   "cell_type": "markdown",
   "metadata": {},
   "source": [
    "# Tuples"
   ]
  },
  {
   "cell_type": "code",
   "execution_count": 4,
   "metadata": {
    "collapsed": false
   },
   "outputs": [
    {
     "name": "stdout",
     "output_type": "stream",
     "text": [
      "3\n"
     ]
    },
    {
     "ename": "AttributeError",
     "evalue": "'tuple' object has no attribute 'append'",
     "output_type": "error",
     "traceback": [
      "\u001b[0;31m---------------------------------------------------------------------------\u001b[0m",
      "\u001b[0;31mAttributeError\u001b[0m                            Traceback (most recent call last)",
      "\u001b[0;32m<ipython-input-4-8d4ada09e19c>\u001b[0m in \u001b[0;36m<module>\u001b[0;34m()\u001b[0m\n\u001b[1;32m      1\u001b[0m \u001b[0ma_tuple\u001b[0m \u001b[0;34m=\u001b[0m \u001b[0;34m(\u001b[0m\u001b[0;36m1\u001b[0m\u001b[0;34m,\u001b[0m\u001b[0;36m2\u001b[0m\u001b[0;34m,\u001b[0m\u001b[0;36m3\u001b[0m\u001b[0;34m)\u001b[0m\u001b[0;34m\u001b[0m\u001b[0m\n\u001b[1;32m      2\u001b[0m \u001b[0mprint\u001b[0m\u001b[0;34m(\u001b[0m\u001b[0ma_tuple\u001b[0m\u001b[0;34m[\u001b[0m\u001b[0;36m2\u001b[0m\u001b[0;34m]\u001b[0m\u001b[0;34m)\u001b[0m\u001b[0;34m\u001b[0m\u001b[0m\n\u001b[0;32m----> 3\u001b[0;31m \u001b[0ma_tuple\u001b[0m\u001b[0;34m.\u001b[0m\u001b[0mappend\u001b[0m\u001b[0;34m(\u001b[0m\u001b[0;36m5\u001b[0m\u001b[0;34m)\u001b[0m\u001b[0;34m\u001b[0m\u001b[0m\n\u001b[0m",
      "\u001b[0;31mAttributeError\u001b[0m: 'tuple' object has no attribute 'append'"
     ]
    }
   ],
   "source": [
    "a_tuple = (1,2,3)\n",
    "print(a_tuple[2])\n",
    "a_tuple.append(5)\n"
   ]
  },
  {
   "cell_type": "code",
   "execution_count": 22,
   "metadata": {
    "collapsed": false
   },
   "outputs": [
    {
     "name": "stdout",
     "output_type": "stream",
     "text": [
      "the user entered 4 ints and 4 strings\n"
     ]
    }
   ],
   "source": [
    "def get_user_inputs():\n",
    "    \"\"\"Ask the user to enter a number or string.  Count how frequently a user enters a number/string and return each\n",
    "    count\n",
    "    return a tuple with the 0th element as the count of ints entered\n",
    "                    and the 1st element as the count of strings entered\n",
    "                    \n",
    "                    if the user enters the following lines, you would return (4, 4):\n",
    "                    1\n",
    "                    Hi\n",
    "                    4\n",
    "                    Mom\n",
    "                    8675309\n",
    "                    Jenny\n",
    "                    24601\n",
    "                    Jean Valjean                    \n",
    "                    \"\"\"\n",
    "    return (4,4)\n",
    "\n",
    "\n",
    "#This is tuple unpacking, the number of assignments on the \n",
    "#left must equal the number of elements in the tuple, unless you are\n",
    "#storing the entire tuple, in which case there is only 1 variable\n",
    "#allowed on the left\n",
    "int_count, str_count = get_user_inputs()\n",
    "\n",
    "#print(\"the user entered %s ints and %s strings\" % (user_said))\n",
    "\n",
    "print(\"the user entered {} ints and {} strings\".format( int_count, str_count) )\n",
    "\n",
    "\n"
   ]
  },
  {
   "cell_type": "code",
   "execution_count": 25,
   "metadata": {
    "collapsed": false
   },
   "outputs": [
    {
     "name": "stdout",
     "output_type": "stream",
     "text": [
      "Enter something: 2\n",
      "Enter something: d\n",
      "Enter something: \n",
      "You entered 1 ints, 0 floats, and 1 strings\n"
     ]
    }
   ],
   "source": [
    "def get_user_counts():\n",
    "    int_count = 0 \n",
    "    float_count = 0 \n",
    "    str_count = 0 \n",
    "    while True:\n",
    "        user_in = input(\"Enter something: \")\n",
    "        if not user_in:\n",
    "            return (int_count, float_count, str_count)\n",
    "        try:\n",
    "            int(user_in)\n",
    "            int_count += 1\n",
    "        except ValueError:\n",
    "            try:\n",
    "                float(user_in)\n",
    "                float_count += 1\n",
    "            except ValueError:\n",
    "                str_count += 1\n",
    "    \n",
    "\n",
    "int_count, float_count, str_count = get_user_counts()\n",
    "print(\"You entered {} ints, {} floats, and {} strings\".format(int_count, float_count, str_count) )    \n"
   ]
  },
  {
   "cell_type": "markdown",
   "metadata": {},
   "source": [
    "# Dictionary"
   ]
  },
  {
   "cell_type": "code",
   "execution_count": 52,
   "metadata": {
    "collapsed": false
   },
   "outputs": [
    {
     "name": "stdout",
     "output_type": "stream",
     "text": [
      "{'bryce': 29, 'methusela': 900, 'nosferatu': 3000, 'big red': 1200, 'sam': 36, 'andrew': 23, 'art': 29, 'shannon': 27, 'max': 25}\n",
      "36\n",
      "tommy is ageless\n",
      "dict_keys(['bryce', 'methusela', 'nosferatu', 'big red', 'sam', 'andrew', 'art', 'shannon', 'max'])\n",
      "dict_values([29, 900, 3000, 1200, 36, 23, 29, 27, 25])\n",
      "bryce\t29\n",
      "methusela\t900\n",
      "nosferatu\t3000\n",
      "big red\t1200\n",
      "sam\t36\n",
      "andrew\t23\n",
      "art\t29\n",
      "shannon\t27\n",
      "max\t25\n"
     ]
    }
   ],
   "source": [
    "my_dict = {\"sam\":36, \"bryce\":29, \"andrew\":23, \"max\":25}\n",
    "my_dict[\"shannon\"] = 27\n",
    "my_dict[\"art\"] = 29\n",
    "my_dict[\"methusela\"] = 900\n",
    "my_dict[\"nosferatu\"] = 3000\n",
    "my_dict[\"big red\"] = 1200\n",
    "\n",
    "print(my_dict)\n",
    "print(my_dict[\"sam\"])\n",
    "if \"tommy\" in my_dict:\n",
    "    print(my_dict[\"tommy\"])\n",
    "else:\n",
    "    print(\"tommy is ageless\")\n",
    "print(my_dict.keys())\n",
    "print(my_dict.values())\n",
    "\n",
    "for key in my_dict:\n",
    "    print(key, my_dict[key], sep=\"\\t\")"
   ]
  },
  {
   "cell_type": "code",
   "execution_count": 50,
   "metadata": {
    "collapsed": false
   },
   "outputs": [
    {
     "name": "stdout",
     "output_type": "stream",
     "text": [
      "enter a name: Jon\n",
      "{'a name': None, 'a': 'Jon', None: 'hmm?'}\n"
     ]
    }
   ],
   "source": [
    "none_dict = {}\n",
    "none_dict[None] = \"hmm?\"\n",
    "none_dict[\"a name\"] = None\n",
    "a = input(\"enter a name: \")\n",
    "none_dict[\"a\"] = a\n",
    "print(none_dict)"
   ]
  },
  {
   "cell_type": "code",
   "execution_count": 53,
   "metadata": {
    "collapsed": true
   },
   "outputs": [],
   "source": [
    "phonebook = {}"
   ]
  },
  {
   "cell_type": "code",
   "execution_count": 54,
   "metadata": {
    "collapsed": true
   },
   "outputs": [],
   "source": [
    "user_number = 1234"
   ]
  },
  {
   "cell_type": "code",
   "execution_count": 55,
   "metadata": {
    "collapsed": true
   },
   "outputs": [],
   "source": [
    "phonebook[\"user_name\"] = user_number"
   ]
  },
  {
   "cell_type": "code",
   "execution_count": 56,
   "metadata": {
    "collapsed": false
   },
   "outputs": [
    {
     "data": {
      "text/plain": [
       "{'user_name': 1234}"
      ]
     },
     "execution_count": 56,
     "metadata": {},
     "output_type": "execute_result"
    }
   ],
   "source": [
    "phonebook"
   ]
  },
  {
   "cell_type": "code",
   "execution_count": 57,
   "metadata": {
    "collapsed": true
   },
   "outputs": [],
   "source": [
    "user_name = \"Bryce\""
   ]
  },
  {
   "cell_type": "code",
   "execution_count": 58,
   "metadata": {
    "collapsed": true
   },
   "outputs": [],
   "source": [
    "phonebook[user_name] = user_number"
   ]
  },
  {
   "cell_type": "code",
   "execution_count": 59,
   "metadata": {
    "collapsed": false
   },
   "outputs": [
    {
     "data": {
      "text/plain": [
       "{'Bryce': 1234, 'user_name': 1234}"
      ]
     },
     "execution_count": 59,
     "metadata": {},
     "output_type": "execute_result"
    }
   ],
   "source": [
    "phonebook"
   ]
  },
  {
   "cell_type": "code",
   "execution_count": null,
   "metadata": {
    "collapsed": true
   },
   "outputs": [],
   "source": []
  }
 ],
 "metadata": {
  "kernelspec": {
   "display_name": "Python 3",
   "language": "python",
   "name": "python3"
  },
  "language_info": {
   "codemirror_mode": {
    "name": "ipython",
    "version": 3
   },
   "file_extension": ".py",
   "mimetype": "text/x-python",
   "name": "python",
   "nbconvert_exporter": "python",
   "pygments_lexer": "ipython3",
   "version": "3.5.2"
  }
 },
 "nbformat": 4,
 "nbformat_minor": 0
}
