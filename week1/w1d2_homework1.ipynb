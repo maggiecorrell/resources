{
 "cells": [
  {
   "cell_type": "markdown",
   "metadata": {},
   "source": [
    "# Homework 1"
   ]
  },
  {
   "cell_type": "code",
   "execution_count": 9,
   "metadata": {
    "collapsed": false
   },
   "outputs": [
    {
     "name": "stdout",
     "output_type": "stream",
     "text": [
      "enter a number: \n",
      "you didn't enter any numbers\n"
     ]
    }
   ],
   "source": [
    "sum_of = 0\n",
    "count_of = 0\n",
    "\n",
    "while True:\n",
    "    user_in = input(\"enter a number: \")\n",
    "    if not user_in:\n",
    "        break\n",
    "        \n",
    "    if user_in.lower() in [\"nan\", \"inf\", \"-inf\"]:\n",
    "        print(\"you entered an invalid number, please try again\")\n",
    "        continue\n",
    "        \n",
    "    try:\n",
    "        sum_of += float(user_in)\n",
    "        count_of += 1\n",
    "    except:\n",
    "        print(\"you entered an invalid number, please try again\")\n",
    "if count_of:\n",
    "    print(\"you entered %s numbers whose sum is %s and average is %s\" % (count_of, sum_of, sum_of / count_of))\n",
    "else:\n",
    "    print(\"you didn't enter any numbers\")\n",
    "\n"
   ]
  },
  {
   "cell_type": "code",
   "execution_count": 4,
   "metadata": {
    "collapsed": false
   },
   "outputs": [
    {
     "name": "stdout",
     "output_type": "stream",
     "text": [
      "enter something:asdf\n",
      "enter another string: 4\n",
      "You entered a number in a string space, start over\n",
      "enter another string: adfg\n",
      "enter another string: 3\n",
      "You entered a number in a string space, start over\n",
      "enter another string: adfg\n",
      "enter another string: adg\n",
      "enter another string: adfh\n",
      "enter another string: \n",
      "asdfadfgadgadfh\n"
     ]
    }
   ],
   "source": [
    "def strings(so_far):\n",
    "    while True:\n",
    "        user_in = input(\"enter another string: \")\n",
    "        if not user_in:\n",
    "            break\n",
    "        \n",
    "        try:\n",
    "            float(user_in)\n",
    "            so_far = \"You entered a number in a string space, start over\"\n",
    "            print(so_far)\n",
    "            return False\n",
    "        except:\n",
    "            so_far += user_in\n",
    "    print(so_far)\n",
    "    return True\n",
    "    \n",
    "    \n",
    "def numbers(first):\n",
    "    sum_of = first\n",
    "    count_of = 1\n",
    "\n",
    "    while True:\n",
    "        user_in = input(\"enter another number: \")\n",
    "        if not user_in:\n",
    "            break\n",
    "    \n",
    "        if user_in.lower() in [\"nan\", \"inf\", \"-inf\"]:\n",
    "            print(\"you entered an invalid number, please try again\")\n",
    "            continue\n",
    "        \n",
    "        try:\n",
    "            sum_of += float(user_in)\n",
    "            count_of += 1\n",
    "        except:            \n",
    "            print(\"you entered an invalid number, please try again\")\n",
    "            \n",
    "    if count_of:\n",
    "        print(\"you entered %s numbers whose sum is %s and average is %s\" % (count_of, sum_of, sum_of / count_of))\n",
    "    else:\n",
    "        print(\"you didn't enter any numbers\")\n",
    "\n",
    "\n",
    "user_in = input(\"enter something:\")\n",
    "try:\n",
    "    numbers(float(user_in))\n",
    "except:\n",
    "    while not strings(user_in):\n",
    "        pass"
   ]
  },
  {
   "cell_type": "code",
   "execution_count": null,
   "metadata": {
    "collapsed": true
   },
   "outputs": [],
   "source": [
    "def strings(so_far):\n",
    "    while True:\n",
    "        user_in = input(\"enter another string: \")\n",
    "        if not user_in:\n",
    "            break\n",
    "        \n",
    "        try:\n",
    "            float(user_in)\n",
    "            so_far = \"You entered a number in a string space, start over\"\n",
    "            print(so_far)\n",
    "            return False\n",
    "        except:\n",
    "            so_far += user_in\n",
    "    print(so_far)\n",
    "    return True\n",
    "    \n",
    "    \n",
    "def numbers(first):\n",
    "    sum_of = first\n",
    "    count_of = 1\n",
    "\n",
    "    while True:\n",
    "        user_in = input(\"enter another number: \")\n",
    "        if not user_in:\n",
    "            break\n",
    "    \n",
    "        if user_in.lower() in [\"nan\", \"inf\", \"-inf\"]:\n",
    "            print(\"you entered an invalid number, please try again\")\n",
    "            continue\n",
    "        \n",
    "        try:\n",
    "            sum_of += float(user_in)\n",
    "            count_of += 1\n",
    "        except:            \n",
    "            print(\"you entered an invalid number, please try again\")\n",
    "            \n",
    "    if count_of:\n",
    "        print(\"you entered %s numbers whose sum is %s and average is %s\" % (count_of, sum_of, sum_of / count_of))\n",
    "    else:\n",
    "        print(\"you didn't enter any numbers\")\n",
    "\n",
    "\n",
    "user_in = input(\"enter something:\")\n",
    "try:\n",
    "    numbers(float(user_in))\n",
    "except:\n",
    "    while not strings(user_in):\n",
    "        pass"
   ]
  },
  {
   "cell_type": "code",
   "execution_count": null,
   "metadata": {
    "collapsed": true
   },
   "outputs": [],
   "source": []
  }
 ],
 "metadata": {
  "kernelspec": {
   "display_name": "Python 3",
   "language": "python",
   "name": "python3"
  },
  "language_info": {
   "codemirror_mode": {
    "name": "ipython",
    "version": 3
   },
   "file_extension": ".py",
   "mimetype": "text/x-python",
   "name": "python",
   "nbconvert_exporter": "python",
   "pygments_lexer": "ipython3",
   "version": "3.5.2"
  }
 },
 "nbformat": 4,
 "nbformat_minor": 0
}
