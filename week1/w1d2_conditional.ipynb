{
 "cells": [
  {
   "cell_type": "markdown",
   "metadata": {},
   "source": [
    "# Conditional Execution"
   ]
  },
  {
   "cell_type": "code",
   "execution_count": 19,
   "metadata": {
    "collapsed": false
   },
   "outputs": [
    {
     "name": "stdout",
     "output_type": "stream",
     "text": [
      "everything else\n"
     ]
    }
   ],
   "source": [
    "import statistics\n",
    "from statistics import StatisticsError\n",
    "my_list = [2,3,4]\n",
    "try:\n",
    "    statistics.mode(my_list)\n",
    "except IndexError:\n",
    "    print(\"indexError\")\n",
    "except StatisticsError:\n",
    "    print(\"everything else\")\n"
   ]
  },
  {
   "cell_type": "code",
   "execution_count": 20,
   "metadata": {
    "collapsed": false
   },
   "outputs": [
    {
     "name": "stdout",
     "output_type": "stream",
     "text": [
      "enter a 5\n",
      "enter b 5\n",
      "otherwise this\n"
     ]
    }
   ],
   "source": [
    "a = int(input(\"enter a \"))\n",
    "b = int(input(\"enter b \"))\n",
    "\n",
    "if a > b:\n",
    "    print(\"this will happen\")\n",
    "elif a < b:\n",
    "    print(\"b is greater than a\")\n",
    "else:\n",
    "    print(\"otherwise this\")\n",
    "\n",
    "    "
   ]
  },
  {
   "cell_type": "code",
   "execution_count": 23,
   "metadata": {
    "collapsed": false
   },
   "outputs": [
    {
     "name": "stdout",
     "output_type": "stream",
     "text": [
      "what year? 2100\n",
      "False\n"
     ]
    }
   ],
   "source": [
    "def is_leap(year):\n",
    "    if year % 4 == 0:\n",
    "        if year % 100 == 0:\n",
    "            if year % 400 == 0:\n",
    "                return True\n",
    "            return False\n",
    "        return True\n",
    "    return False\n",
    "\n",
    "\n",
    "    \n",
    "\n",
    "print(is_leap(int(input(\"what year? \"))))\n"
   ]
  },
  {
   "cell_type": "code",
   "execution_count": 35,
   "metadata": {
    "collapsed": false
   },
   "outputs": [
    {
     "name": "stdout",
     "output_type": "stream",
     "text": [
      "what year? 2004\n",
      "True\n"
     ]
    }
   ],
   "source": [
    "def is_leap(year):\n",
    "    out = False\n",
    "    if year % 4 == 0:\n",
    "        out = not out\n",
    "        if year % 100 == 0:\n",
    "            out = not out\n",
    "            if year % 400 == 0:\n",
    "                out = not out\n",
    "    return out\n",
    "print(is_leap(int(input(\"what year? \"))))"
   ]
  },
  {
   "cell_type": "code",
   "execution_count": null,
   "metadata": {
    "collapsed": true
   },
   "outputs": [],
   "source": [
    "def is_leap(year):\n",
    "    \n",
    "    \n",
    "print(is_leap(int(input(\"what year? \"))))"
   ]
  }
 ],
 "metadata": {
  "kernelspec": {
   "display_name": "Python 3",
   "language": "python",
   "name": "python3"
  },
  "language_info": {
   "codemirror_mode": {
    "name": "ipython",
    "version": 3
   },
   "file_extension": ".py",
   "mimetype": "text/x-python",
   "name": "python",
   "nbconvert_exporter": "python",
   "pygments_lexer": "ipython3",
   "version": "3.5.2"
  }
 },
 "nbformat": 4,
 "nbformat_minor": 0
}
